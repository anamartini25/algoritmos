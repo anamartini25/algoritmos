{
  "cells": [
    {
      "cell_type": "markdown",
      "metadata": {
        "id": "view-in-github",
        "colab_type": "text"
      },
      "source": [
        "<a href=\"https://colab.research.google.com/github/anamartini25/algoritmos/blob/main/portifolio_algoritmos.ipynb\" target=\"_parent\"><img src=\"https://colab.research.google.com/assets/colab-badge.svg\" alt=\"Open In Colab\"/></a>"
      ]
    },
    {
      "cell_type": "code",
      "source": [
        "# Portifólio de Algoritmos - Ana Clara Martini Reis"
      ],
      "metadata": {
        "id": "WeHrSq7CD8E8"
      },
      "execution_count": null,
      "outputs": []
    },
    {
      "cell_type": "code",
      "source": [
        "# Introdução\n",
        "name=\"introducao\"\n",
        "\n",
        "''' Este notebook tem como objetivo estudar e aplicar conceitos fundamentais de algoritmos utilizando a linguagem Python.\n",
        "Além de resolver exercícios selecionados das listas fornecidas pelo professor, cada seção traz explicações teóricas que contextualizam\n",
        "os conceitos. Também será abordado um tópico extra: **manipulação de arquivos com Python**, que amplia nosso conhecimento além do\n",
        "conteúdo visto em sala. '''\n"
      ],
      "metadata": {
        "id": "TBtktVVqIZGG"
      },
      "execution_count": null,
      "outputs": []
    },
    {
      "cell_type": "code",
      "source": [
        "# Exercícios Resolvidos\n",
        "\n",
        "name=\"exercicios-resolvidos\"\n",
        "\n",
        "''' Lista 1: '''\n",
        "questao1 = 'Defina o que é um algoritmo.'\n",
        "print(\"Questão 1: \", questao1)\n",
        "resposta = 'Um algoritmo é uma sequência finita de passos bem definidos que visam resolver um problema ou realizar uma tarefa. \\nEm computação, os algoritmos são usados para descrever a lógica de funcionamento de um programa.'\n",
        "print(\"Resposta: \", resposta)\n",
        "print()\n",
        "\n",
        "questao4 = 'Defina o que é uma linguagem de programação de alto nível e uma linguagem de programação de baixo nível.'\n",
        "print(\"Questão 4: \", questao4)\n",
        "resposta = 'Linguagem de alto nível é mais próxima da linguagem humana, sendo mais fácil de escrever, ler e entender. Exemplos: Python, Java, C. \\nLinguagem de baixo nível é mais próxima da linguagem da máquina. Exige conhecimento técnico mais profundo. Exemplos: Assembly, linguagem de máquina (binária).'\n",
        "print(\"Resposta: \", resposta)\n",
        "print()\n",
        "\n",
        "questao6 = 'Quais as vantagens e desvantagens da utilização de fluxograma e pseudocódigo na construção de algoritmos?'\n",
        "print('Questão 6: ', questao6)\n",
        "resposta1 = '\\nFluxograma: \\n- Vantagens: \\n  - Visual e intuitivo.\\n  - Ajuda na compreensão da lógica.\\n- Desvantagens: \\n  - Trabalhoso para modificar.\\n  - Difícil de representar algoritmos grandes.'\n",
        "resposta2 = '\\nPseudocódigo: \\n- Vantagens: \\n  - Próximo da linguagem humana.\\n  - Fácil de escrever, alterar e transformar em código real.\\n- Desvantagens:\\n  - Pode variar entre autores.\\n  - Pouco visual'\n",
        "print('Resposta: ', resposta1, resposta2)\n",
        "print()\n",
        "\n"
      ],
      "metadata": {
        "id": "SBuxI9K7JpXm"
      },
      "execution_count": null,
      "outputs": []
    },
    {
      "cell_type": "code",
      "source": [
        "questao10 = 'Defina entrada, saída e sua relação com os algoritmos.'\n",
        "print('Questão 10: ', questao10)\n",
        "resposta = '- Entrada: dados fornecidos ao algoritmo para processamento.\\n - Saída: resultados gerados após a execução.'\n",
        "resposta2= '\\n Exemplo: \\n```python \\nentrada: número = 5 \\nprocessamento: número * 2 \\nsaída: = 10'\n",
        "print('Resposta: ', resposta, resposta2)\n",
        "print()\n",
        "\n",
        "questao11 = 'O que são linguagens de programação? Qual sua relação com algoritmos?'\n",
        "print('Questão 11: ', questao11)\n",
        "resposta = '- Linguagens de programação são linguagens formais usadas para escrever instruções que serão interpretadas e executadas por computadores. \\nElas possuem regras de sintaxe e semântica específicas, permitindo que humanos comuniquem ideias lógicas de forma que a máquina entenda.'\n",
        "resposta1 = '\\n- Relação com algoritmos: Os algoritmos representam a lógica e os passos necessários para resolver um problema. \\nJá as linguagens de programação são usadas para transformar esses algoritmos em código executável.'\n",
        "resposta2 = '\\n- Em resumo: o algoritmo é a ideia, a linguagem de programação é a ferramenta que transforma a ideia em um programa funcional.'\n",
        "print('Resposta: ', resposta, resposta1, resposta2)\n",
        "print()"
      ],
      "metadata": {
        "id": "kjHzi8xrba_o"
      },
      "execution_count": null,
      "outputs": []
    },
    {
      "cell_type": "code",
      "source": [
        "questao12 = 'Por que não fazemos algoritmos diretamente na linguagem de máquina do computador?'\n",
        "print('Questão 12: ', questao12)\n",
        "resposta = 'Porque é extremamente difícil, propenso a erros e pouco produtivo. A linguagem de máquina é composta apenas por números binários, \\ndificultando a escrita, leitura e manutenção. Por isso usamos linguagens de alto nível.'\n",
        "print('Resposta: ', resposta)\n",
        "print()\n",
        "\n",
        "questao13 = 'Como podemos definir linguagem estruturada?'\n",
        "print('Questão 13: ', questao13)\n",
        "resposta = 'É um tipo de linguagem de programação baseada em estruturas bem definidas: sequência, decisão (condicional) e repetição (laços). \\nPromove organização, clareza e facilidade de manutenção. Ex: Python, C, Pascal.'\n",
        "print('Resposta: ',resposta)\n",
        "print()"
      ],
      "metadata": {
        "id": "njxenLZZbYuq"
      },
      "execution_count": null,
      "outputs": []
    },
    {
      "cell_type": "code",
      "source": [
        "questao15 = 'Represente os algoritmos seguintes utilizando a forma narrativa, fluxograma e pseudocódigo.'\n",
        "letraa = '   a. Algoritmo para calcular a média aritmética entre duas notas de um aluno e para mostrar \\na situação desse aluno, que pode ser aprovado (média ≥ 7,0) ou reprovado (média < 7,0).'\n",
        "letrab = '   b. Algoritmo para calcular o novo salário de um funcionário. Sabe-se que os funcionários \\nque possuem salário atual até R$500,00 terão um aumento de 20%, os demais terão um aumento de 10%.'\n",
        "print('Questão 15: ',questao15,'\\n', letraa, '\\n', letrab)\n",
        "respostaa1 = 'Forma narrativa: \\nO algoritmo deve ler duas notas, calcular a média aritmética e informar se o aluno está aprovado (média ≥ 7,0) ou reprovado (média < 7,0).'\n",
        "respostaa2 = 'Pseudocódigo: \\nInicio \\n  Ler nota1 \\n  Ler nota2 \\n  media ← (nota1 + nota2) / 2 \\n  Se media ≥ 7 então \\n     Escreva \"Aprovado\" \\n  Senão \\n     Escreva \"Reprovado\" \\nFim'\n",
        "print('Resposta A: ', respostaa1, '\\n', respostaa2)"
      ],
      "metadata": {
        "id": "bSuEMw2pbVA7"
      },
      "execution_count": null,
      "outputs": []
    },
    {
      "cell_type": "code",
      "source": [
        "print('Resposta A na forma de fluxograma')\n",
        "Início\n",
        " ↓\n",
        "Ler nota1, nota2\n",
        " ↓\n",
        "Calcular média ← (nota1 + nota2) / 2\n",
        " ↓\n",
        "[média ≥ 7 ?]\n",
        "   → Sim → Escrever \"Aprovado\"\n",
        "   → Não → Escrever \"Reprovado\"\n",
        " ↓\n",
        "Fim\n"
      ],
      "metadata": {
        "id": "uxlZsGV_mTiQ"
      },
      "execution_count": null,
      "outputs": []
    },
    {
      "cell_type": "code",
      "source": [
        "respostab1 = '\\nO algoritmo deve ler o salário atual de um funcionário e calcular seu novo salário. \\n5Se o salário for até R$ 500,00, o aumento será de 20%. Se for maior que R$ 500,00, o aumento será de 10%. Ao final, deve mostrar o valor do novo salário.'\n",
        "print('Resposta B na forma narrativa', respostab1)\n",
        "print()\n",
        "print('Resposta B na forma de pseudocódigo: ')\n",
        "Início\n",
        "    Ler salario\n",
        "    Se salario ≤ 500 então\n",
        "        novo_salario ← salario * 1.20\n",
        "    Senão\n",
        "        novo_salario ← salario * 1.10\n",
        "    FimSe\n",
        "    Escrever \"Novo salário: \", novo_salario\n",
        "Fim\n",
        "print()\n"
      ],
      "metadata": {
        "id": "3lvfAvSVOXNu"
      },
      "execution_count": null,
      "outputs": []
    },
    {
      "cell_type": "code",
      "source": [
        "print('Resposta B na forma de fluxograma: ')\n",
        "Início\n",
        " ↓\n",
        "Ler salario\n",
        " ↓\n",
        "[salario ≤ 500 ?]\n",
        "   → Sim → novo_salario ← salario * 1.20\n",
        "   → Não → novo_salario ← salario * 1.10\n",
        " ↓\n",
        "Escrever novo_salario\n",
        " ↓\n",
        "Fim"
      ],
      "metadata": {
        "id": "V0JTp1KunvJq"
      },
      "execution_count": null,
      "outputs": []
    },
    {
      "cell_type": "code",
      "source": [
        "name=\"exercicios-resolvidos\"\n",
        "\n",
        "''' Lista 2: '''\n",
        "questao2 = 'Faça um algoritmo que receba dois números e ao final mostre a soma, subtração, multiplicação e a divisão dos números lidos.'\n",
        "print('Questão 2: ', questao2)\n",
        "print('A resposta está logo embaixo no código.')\n",
        "inicio\n",
        "    leia (numero1)\n",
        "    leia (numero2)\n",
        "    soma ← numero1 + numero2\n",
        "    subtracao ← numero1 - numero2\n",
        "    multiplicacao ← numero1 * numero2\n",
        "    divisao ← numero1 / numero2\n",
        "    escreva (\"Soma: \", soma)\n",
        "    escreva (\"Subtração: \", subtracao)\n",
        "    escreva (\"Multiplicação: \", multiplicacao)\n",
        "    escreva (\"Divisão: \", divisao)\n",
        "fim\n",
        "print()\n",
        "\n",
        "questao4 = 'Escrever um algoritmo que leia o nome de um vendedor, o seu salário fixo e o total de vendas efetuadas por ele no mês (em dinheiro). \\nSabendo que este vendedor ganha 15% de comissão sobre suas vendas efetuadas, informar o seu nome, o salário fixo e salário no final do mês.'\n",
        "print('Questão 4: ', questao4)\n",
        "print('A resposta está logo embaixo no código.')\n",
        "inicio\n",
        "    ler nome\n",
        "    ler salario_fixo\n",
        "    ler total_vendas\n",
        "    comissao ← total_vendas * 0.15\n",
        "    salario_total ← salario_fixo + comissao\n",
        "    escrever \"Nome: \", nome\n",
        "    escrever \"Salário fixo: \", salario_fixo\n",
        "    escrever \"Salário final: \", salario_total\n",
        "fim\n",
        "print()"
      ],
      "metadata": {
        "id": "d5t3-Y6fb1SB"
      },
      "execution_count": null,
      "outputs": []
    },
    {
      "cell_type": "code",
      "source": [
        "questao5 = 'Escrever um algoritmo que leia o nome de um aluno e as notas das três provas que ele obteve no semestre. No final informar o nome do aluno e a sua média (aritmética).'\n",
        "print('Questão 5: ', questao5)\n",
        "print('A resposta está logo embaixo no código.')\n",
        "inicio\n",
        "    ler nome\n",
        "    ler nota1\n",
        "    ler nota2\n",
        "    ler nota3\n",
        "    media ← (nota1 + nota2 + nota3) / 3\n",
        "    escrever \"Nome do aluno: \", nome\n",
        "    escrever \"Média: \", media\n",
        "fim\n",
        "print()\n",
        "\n",
        "questao6 = 'Ler dois valores para as variáveis A e B, e efetuar as trocas dos valores de forma que a variável Apasse a possuir o valor da variável B e a variável B \\npasse a possuir o valor da variável A. Apresentaros valores trocados.'\n",
        "print('Questão 6: ', questao6)\n",
        "print('A resposta está logo embaixo no código.')\n",
        "inicio\n",
        "    ler A\n",
        "    ler B\n",
        "    aux ← A\n",
        "    A ← B\n",
        "    B ← aux\n",
        "    escrever \"Novo valor de A: \", A\n",
        "    escrever \"Novo valor de B: \", B\n",
        "fim\n",
        "print()"
      ],
      "metadata": {
        "id": "ccSmwiGYhKDy",
        "outputId": "1525210c-2ccf-4050-b85b-f84f43ea834b",
        "colab": {
          "base_uri": "https://localhost:8080/"
        }
      },
      "execution_count": null,
      "outputs": [
        {
          "output_type": "stream",
          "name": "stdout",
          "text": [
            "Questão 3:  Ler dois valores para as variáveis A e B, e efetuar as trocas dos valores de forma que a variável Apasse a possuir o valor da variável B e a variável B \n",
            "passe a possuir o valor da variável A. Apresentaros valores trocados.\n",
            "A resposta está logo embaixo no código.\n"
          ]
        }
      ]
    },
    {
      "cell_type": "code",
      "source": [
        "questao9 = 'Faça um algoritmo que receba o preço de custo de um produto e mostre o valor de venda. Sabe-se que o preço \\nde custo receberá um acréscimo de acordo com um percentual informado pelo usuário.'\n",
        "print('Questão 9: ', questao9)\n",
        "print('A resposta está logo embaixo no código.')\n",
        "inicio\n",
        "    ler preco_custo\n",
        "    ler percentual_acrescimo\n",
        "    valor_venda ← preco_custo + (preco_custo * percentual_acrescimo / 100)\n",
        "    escrever \"Valor de venda: \", valor_venda\n",
        "fim\n",
        "print()\n",
        "\n",
        "questao10 = 'O custo ao consumidor de um carro novo é a soma do custo de fábrica com a percentagem do distribuidor e dos impostos (aplicados, primeiro os \\nimpostos sobre o custo de fábrica, e depois a percentagem do distribuidor sobre o resultado). Supondo que a percentagem do distribuidor seja de 28% e os impostos 45%. \\nEscrever um algoritmo que leia o custo de fábrica de um carro e informe o custo ao consumidor do mesmo.'\n",
        "print('Questão 10: ', questao10)\n",
        "print('A resposta está logo embaixo no código.')\n",
        "inicio\n",
        "    ler custo_fabrica\n",
        "    impostos ← custo_fabrica * 0.45\n",
        "    custo_com_impostos ← custo_fabrica + impostos\n",
        "    distribuidor ← custo_com_impostos * 0.28\n",
        "    custo_consumidor ← custo_com_impostos + distribuidor\n",
        "    escrever \"Custo ao consumidor: \", custo_consumidor\n",
        "fim\n",
        "print()"
      ],
      "metadata": {
        "id": "bo2L2FEsjsmR"
      },
      "execution_count": null,
      "outputs": []
    },
    {
      "cell_type": "code",
      "source": [
        "name=\"exercicios-resolvidos\"\n",
        "\n",
        "''' Lista 3: '''\n",
        "questao2a = '2. Uma competição de natação é organizada de acordo com idade de cada nadador. Elabore um \\nalgoritmo que leia a idade de um nadador e determine qual a categoria que ele deve competir. Considere:'\n",
        "questao2b = '\\n   idade<=8 anos  Categoria Infantil A'\n",
        "questao2c = '\\n   idade <13 anos  Categoria Infantil B'\n",
        "questao2d = '\\n   idade <18 anos  Categoria Juvenil A'\n",
        "questao2e = '\\n   idade <21 anos  Categoria Juvenil B'\n",
        "questao2f = '\\n   idade>=21  Categoria Sênior'\n",
        "print('Questão 2', questao2a, questao2b, questao2c, questao2d, questao2e, questao2f)\n",
        "print('A resposta está logo embaixo no código.')\n",
        "inicio\n",
        "    ler idade\n",
        "    Se idade ≤ 8 então\n",
        "        categoria ← \"Infantil A\"\n",
        "    Senão Se idade < 13 então\n",
        "        categoria ← \"Infantil B\"\n",
        "    Senão Se idade < 18 então\n",
        "        categoria ← \"Juvenil A\"\n",
        "    Senão Se idade < 21 então\n",
        "        categoria ← \"Juvenil B\"\n",
        "    Senão\n",
        "        categoria ← \"Sênior\"\n",
        "    escrever \"Categoria: \", categoria\n",
        "fim\n",
        "print()"
      ],
      "metadata": {
        "id": "6qvTPJqkoRy3"
      },
      "execution_count": null,
      "outputs": []
    },
    {
      "cell_type": "code",
      "source": [
        "questao3 = 'Uma empresa de vendas oferece para seus clientes um desconto em função do valor da compra do cliente. Este\n",
        "desconto é de 25% se o valor da compra for maior ou igual a R$ 500,00, 20% se for maior ou igual a R$200,00 e\n",
        "menor que R$ 500,00 e 15% caso seja menor que R$200,00. Escreva um algoritmo que imprima o valor da\n",
        "compra do cliente, o valor do desconto obtido e o valor a ser pago pelo cliente.'"
      ],
      "metadata": {
        "id": "Tv0P2Qnvq-IS"
      },
      "execution_count": null,
      "outputs": []
    },
    {
      "cell_type": "code",
      "source": [
        "questao4 = 'O custo ao consumidor de um carro novo é a soma do custo de fábrica com a percentagem do distribuidor e dos impostos (aplicados, primeiro os \\nimpostos sobre o custo de fábrica, e depois a percentagem do distribuidor sobre o resultado). Supondo que a percentagem do distribuidor seja de 28% e os impostos 45%. \\nEscrever um algoritmo que leia o custo de fábrica de um carro e informe o custo ao consumidor do mesmo.'\n",
        "print('Questão 4: ', questao4)"
      ],
      "metadata": {
        "id": "kOU6gpaOjIsp",
        "outputId": "514eaaeb-857d-4883-f2b9-623411b99dcb",
        "colab": {
          "base_uri": "https://localhost:8080/"
        }
      },
      "execution_count": null,
      "outputs": [
        {
          "output_type": "stream",
          "name": "stdout",
          "text": [
            "Questão 4:  O custo ao consumidor de um carro novo é a soma do custo de fábrica com a percentagem do distribuidor e dos impostos (aplicados, primeiro os \n",
            "impostos sobre o custo de fábrica, e depois a percentagem do distribuidor sobre o resultado). Supondo que a percentagem do distribuidor seja de 28% e os impostos 45%. \n",
            "Escrever um algoritmo que leia o custo de fábrica de um carro e informe o custo ao consumidor do mesmo.\n"
          ]
        }
      ]
    },
    {
      "cell_type": "code",
      "source": [
        "# Tópico Extra\n",
        "\n"
      ],
      "metadata": {
        "id": "JIOKh7DZK3lc"
      },
      "execution_count": null,
      "outputs": []
    },
    {
      "cell_type": "markdown",
      "source": [],
      "metadata": {
        "id": "QpP7tpBOJNAv"
      }
    }
  ],
  "metadata": {
    "colab": {
      "provenance": [],
      "toc_visible": true,
      "include_colab_link": true
    },
    "kernelspec": {
      "display_name": "Python 3",
      "name": "python3"
    }
  },
  "nbformat": 4,
  "nbformat_minor": 0
}